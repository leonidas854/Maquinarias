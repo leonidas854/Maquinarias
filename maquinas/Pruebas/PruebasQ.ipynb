{
 "cells": [
  {
   "cell_type": "code",
   "execution_count": 5,
   "id": "803b22d4",
   "metadata": {},
   "outputs": [
    {
     "data": {
      "text/plain": [
       "'maquinaria.settings'"
      ]
     },
     "execution_count": 5,
     "metadata": {},
     "output_type": "execute_result"
    }
   ],
   "source": [
    "import os\n",
    "import sys\n",
    "import django\n",
    "\n",
    "# Ruta absoluta al directorio raíz del proyecto (donde está manage.py)\n",
    "BASE_DIR = os.path.abspath(os.path.join(os.path.dirname(\"__file__\"), '..'))\n",
    "\n",
    "# Agregar el directorio raíz al sys.path\n",
    "if BASE_DIR not in sys.path:\n",
    "    sys.path.insert(0, BASE_DIR)\n",
    "\n",
    "# Configuración del entorno Django\n",
    "os.environ.setdefault('DJANGO_SETTINGS_MODULE', 'maquinaria.settings')\n",
    "\n"
   ]
  },
  {
   "cell_type": "code",
   "execution_count": 6,
   "id": "8458ae6c",
   "metadata": {},
   "outputs": [],
   "source": [
    "django.setup()"
   ]
  },
  {
   "cell_type": "code",
   "execution_count": 7,
   "id": "0074f8e7",
   "metadata": {},
   "outputs": [],
   "source": [
    "from q_learning.Services.ServicesQ_learning_ import ServicesQ_learning"
   ]
  },
  {
   "cell_type": "code",
   "execution_count": null,
   "id": "d3559cef",
   "metadata": {},
   "outputs": [],
   "source": [
    "\n"
   ]
  },
  {
   "cell_type": "code",
   "execution_count": null,
   "id": "bf620fd5",
   "metadata": {},
   "outputs": [
    {
     "name": "stdout",
     "output_type": "stream",
     "text": [
      "Error en construir_matriz_transicion: You cannot call this from an async context - use a thread or sync_to_async.\n"
     ]
    },
    {
     "ename": "SynchronousOnlyOperation",
     "evalue": "You cannot call this from an async context - use a thread or sync_to_async.",
     "output_type": "error",
     "traceback": [
      "\u001b[31m---------------------------------------------------------------------------\u001b[39m",
      "\u001b[31mSynchronousOnlyOperation\u001b[39m                  Traceback (most recent call last)",
      "\u001b[36mCell\u001b[39m\u001b[36m \u001b[39m\u001b[32mIn[10]\u001b[39m\u001b[32m, line 1\u001b[39m\n\u001b[32m----> \u001b[39m\u001b[32m1\u001b[39m hola  = \u001b[43mServicesQ_learning\u001b[49m\u001b[43m(\u001b[49m\u001b[33;43m'\u001b[39;49m\u001b[33;43mLínea k-128\u001b[39;49m\u001b[33;43m'\u001b[39;49m\u001b[43m)\u001b[49m\n",
      "\u001b[36mFile \u001b[39m\u001b[32md:\\Maquinarias\\maquinas\\q_learning\\Services\\ServicesQ_learning_.py:10\u001b[39m, in \u001b[36mServicesQ_learning.__init__\u001b[39m\u001b[34m(self, Name_linea)\u001b[39m\n\u001b[32m      8\u001b[39m \u001b[38;5;28;01mdef\u001b[39;00m\u001b[38;5;250m \u001b[39m\u001b[34m__init__\u001b[39m(\u001b[38;5;28mself\u001b[39m,Name_linea:\u001b[38;5;28mstr\u001b[39m =\u001b[38;5;28;01mNone\u001b[39;00m) :\n\u001b[32m      9\u001b[39m     \u001b[38;5;28mself\u001b[39m.Name_linea = Name_linea\n\u001b[32m---> \u001b[39m\u001b[32m10\u001b[39m     \u001b[38;5;28;43mself\u001b[39;49m\u001b[43m.\u001b[49m\u001b[43m_actualizar_configuracion\u001b[49m\u001b[43m(\u001b[49m\u001b[43mName_linea\u001b[49m\u001b[43m)\u001b[49m\n",
      "\u001b[36mFile \u001b[39m\u001b[32md:\\Maquinarias\\maquinas\\q_learning\\Services\\ServicesQ_learning_.py:19\u001b[39m, in \u001b[36mServicesQ_learning._actualizar_configuracion\u001b[39m\u001b[34m(self, Name_linea)\u001b[39m\n\u001b[32m     17\u001b[39m markov_service = ServicesMarkov(Name_linea)\n\u001b[32m     18\u001b[39m \u001b[38;5;28mself\u001b[39m.Matriz = markov_service.construir_matriz_transicion()\n\u001b[32m---> \u001b[39m\u001b[32m19\u001b[39m \u001b[38;5;28mself\u001b[39m.Estados = {i: estado \u001b[38;5;28;01mfor\u001b[39;00m i, estado \u001b[38;5;129;01min\u001b[39;00m \u001b[38;5;28menumerate\u001b[39m(\u001b[43mmarkov_service\u001b[49m\u001b[43m.\u001b[49m\u001b[43mget_estados\u001b[49m\u001b[43m(\u001b[49m\u001b[43m)\u001b[49m)}\n\u001b[32m     20\u001b[39m \u001b[38;5;28mself\u001b[39m.Linea_Config = Lineas_Embotelladoras.objects.filter(Nombre=Name_linea).values(\n\u001b[32m     21\u001b[39m     \u001b[33m'\u001b[39m\u001b[33mbph\u001b[39m\u001b[33m'\u001b[39m, \u001b[33m'\u001b[39m\u001b[33mFecha_mantenimiento\u001b[39m\u001b[33m'\u001b[39m, \u001b[33m'\u001b[39m\u001b[33mTemp_min\u001b[39m\u001b[33m'\u001b[39m, \u001b[33m'\u001b[39m\u001b[33mTemp_max\u001b[39m\u001b[33m'\u001b[39m,\n\u001b[32m     22\u001b[39m     \u001b[33m'\u001b[39m\u001b[33mUso_operativo\u001b[39m\u001b[33m'\u001b[39m, \u001b[33m'\u001b[39m\u001b[33mCriticidad\u001b[39m\u001b[33m'\u001b[39m,\u001b[33m'\u001b[39m\u001b[33mPresion_base\u001b[39m\u001b[33m'\u001b[39m, \u001b[33m'\u001b[39m\u001b[33mPresion_maxima\u001b[39m\u001b[33m'\u001b[39m\n\u001b[32m     23\u001b[39m ).first()\n\u001b[32m     24\u001b[39m Estado_invertido = {v: k \u001b[38;5;28;01mfor\u001b[39;00m k, v \u001b[38;5;129;01min\u001b[39;00m \u001b[38;5;28mself\u001b[39m.Estados.items()}\n",
      "\u001b[36mFile \u001b[39m\u001b[32md:\\Maquinarias\\maquinas\\Markov\\Services\\ServicesMarkov_.py:39\u001b[39m, in \u001b[36mServicesMarkov.get_estados\u001b[39m\u001b[34m(self)\u001b[39m\n\u001b[32m     38\u001b[39m \u001b[38;5;28;01mdef\u001b[39;00m\u001b[38;5;250m \u001b[39m\u001b[34mget_estados\u001b[39m (\u001b[38;5;28mself\u001b[39m):\n\u001b[32m---> \u001b[39m\u001b[32m39\u001b[39m    \u001b[38;5;28;01mreturn\u001b[39;00m \u001b[38;5;28;43mlist\u001b[39;49m\u001b[43m(\u001b[49m\n\u001b[32m     40\u001b[39m \u001b[43m       \u001b[49m\u001b[43mSimulacion_estado\u001b[49m\u001b[43m.\u001b[49m\u001b[43mobjects\u001b[49m\n\u001b[32m     41\u001b[39m \u001b[43m       \u001b[49m\u001b[43m.\u001b[49m\u001b[43mvalues_list\u001b[49m\u001b[43m(\u001b[49m\n\u001b[32m     42\u001b[39m \u001b[43m        \u001b[49m\u001b[33;43m'\u001b[39;49m\u001b[33;43macc_final\u001b[39;49m\u001b[33;43m'\u001b[39;49m\u001b[43m,\u001b[49m\u001b[43m \u001b[49m\u001b[43mflat\u001b[49m\u001b[43m=\u001b[49m\u001b[38;5;28;43;01mTrue\u001b[39;49;00m\u001b[43m)\u001b[49m\n\u001b[32m     43\u001b[39m \u001b[43m       \u001b[49m\u001b[43m.\u001b[49m\u001b[43mdistinct\u001b[49m\u001b[43m(\u001b[49m\u001b[43m)\u001b[49m\n\u001b[32m     44\u001b[39m \u001b[43m       \u001b[49m\u001b[43m.\u001b[49m\u001b[43morder_by\u001b[49m\u001b[43m(\u001b[49m\u001b[33;43m'\u001b[39;49m\u001b[33;43macc_final\u001b[39;49m\u001b[33;43m'\u001b[39;49m\u001b[43m)\u001b[49m\u001b[43m)\u001b[49m\n",
      "\u001b[36mFile \u001b[39m\u001b[32md:\\Maquinarias\\maquinas\\.venv\\Lib\\site-packages\\django\\db\\models\\query.py:384\u001b[39m, in \u001b[36mQuerySet.__iter__\u001b[39m\u001b[34m(self)\u001b[39m\n\u001b[32m    369\u001b[39m \u001b[38;5;28;01mdef\u001b[39;00m\u001b[38;5;250m \u001b[39m\u001b[34m__iter__\u001b[39m(\u001b[38;5;28mself\u001b[39m):\n\u001b[32m    370\u001b[39m \u001b[38;5;250m    \u001b[39m\u001b[33;03m\"\"\"\u001b[39;00m\n\u001b[32m    371\u001b[39m \u001b[33;03m    The queryset iterator protocol uses three nested iterators in the\u001b[39;00m\n\u001b[32m    372\u001b[39m \u001b[33;03m    default case:\u001b[39;00m\n\u001b[32m   (...)\u001b[39m\u001b[32m    382\u001b[39m \u001b[33;03m           - Responsible for turning the rows into model objects.\u001b[39;00m\n\u001b[32m    383\u001b[39m \u001b[33;03m    \"\"\"\u001b[39;00m\n\u001b[32m--> \u001b[39m\u001b[32m384\u001b[39m     \u001b[38;5;28;43mself\u001b[39;49m\u001b[43m.\u001b[49m\u001b[43m_fetch_all\u001b[49m\u001b[43m(\u001b[49m\u001b[43m)\u001b[49m\n\u001b[32m    385\u001b[39m     \u001b[38;5;28;01mreturn\u001b[39;00m \u001b[38;5;28miter\u001b[39m(\u001b[38;5;28mself\u001b[39m._result_cache)\n",
      "\u001b[36mFile \u001b[39m\u001b[32md:\\Maquinarias\\maquinas\\.venv\\Lib\\site-packages\\django\\db\\models\\query.py:1945\u001b[39m, in \u001b[36mQuerySet._fetch_all\u001b[39m\u001b[34m(self)\u001b[39m\n\u001b[32m   1943\u001b[39m \u001b[38;5;28;01mdef\u001b[39;00m\u001b[38;5;250m \u001b[39m\u001b[34m_fetch_all\u001b[39m(\u001b[38;5;28mself\u001b[39m):\n\u001b[32m   1944\u001b[39m     \u001b[38;5;28;01mif\u001b[39;00m \u001b[38;5;28mself\u001b[39m._result_cache \u001b[38;5;129;01mis\u001b[39;00m \u001b[38;5;28;01mNone\u001b[39;00m:\n\u001b[32m-> \u001b[39m\u001b[32m1945\u001b[39m         \u001b[38;5;28mself\u001b[39m._result_cache = \u001b[38;5;28;43mlist\u001b[39;49m\u001b[43m(\u001b[49m\u001b[38;5;28;43mself\u001b[39;49m\u001b[43m.\u001b[49m\u001b[43m_iterable_class\u001b[49m\u001b[43m(\u001b[49m\u001b[38;5;28;43mself\u001b[39;49m\u001b[43m)\u001b[49m\u001b[43m)\u001b[49m\n\u001b[32m   1946\u001b[39m     \u001b[38;5;28;01mif\u001b[39;00m \u001b[38;5;28mself\u001b[39m._prefetch_related_lookups \u001b[38;5;129;01mand\u001b[39;00m \u001b[38;5;129;01mnot\u001b[39;00m \u001b[38;5;28mself\u001b[39m._prefetch_done:\n\u001b[32m   1947\u001b[39m         \u001b[38;5;28mself\u001b[39m._prefetch_related_objects()\n",
      "\u001b[36mFile \u001b[39m\u001b[32md:\\Maquinarias\\maquinas\\.venv\\Lib\\site-packages\\django\\db\\models\\query.py:271\u001b[39m, in \u001b[36mFlatValuesListIterable.__iter__\u001b[39m\u001b[34m(self)\u001b[39m\n\u001b[32m    269\u001b[39m queryset = \u001b[38;5;28mself\u001b[39m.queryset\n\u001b[32m    270\u001b[39m compiler = queryset.query.get_compiler(queryset.db)\n\u001b[32m--> \u001b[39m\u001b[32m271\u001b[39m \u001b[38;5;28;01mfor\u001b[39;00m row \u001b[38;5;129;01min\u001b[39;00m \u001b[43mcompiler\u001b[49m\u001b[43m.\u001b[49m\u001b[43mresults_iter\u001b[49m\u001b[43m(\u001b[49m\n\u001b[32m    272\u001b[39m \u001b[43m    \u001b[49m\u001b[43mchunked_fetch\u001b[49m\u001b[43m=\u001b[49m\u001b[38;5;28;43mself\u001b[39;49m\u001b[43m.\u001b[49m\u001b[43mchunked_fetch\u001b[49m\u001b[43m,\u001b[49m\u001b[43m \u001b[49m\u001b[43mchunk_size\u001b[49m\u001b[43m=\u001b[49m\u001b[38;5;28;43mself\u001b[39;49m\u001b[43m.\u001b[49m\u001b[43mchunk_size\u001b[49m\n\u001b[32m    273\u001b[39m \u001b[43m\u001b[49m\u001b[43m)\u001b[49m:\n\u001b[32m    274\u001b[39m     \u001b[38;5;28;01myield\u001b[39;00m row[\u001b[32m0\u001b[39m]\n",
      "\u001b[36mFile \u001b[39m\u001b[32md:\\Maquinarias\\maquinas\\.venv\\Lib\\site-packages\\django\\db\\models\\sql\\compiler.py:1572\u001b[39m, in \u001b[36mSQLCompiler.results_iter\u001b[39m\u001b[34m(self, results, tuple_expected, chunked_fetch, chunk_size)\u001b[39m\n\u001b[32m   1570\u001b[39m \u001b[38;5;250m\u001b[39m\u001b[33;03m\"\"\"Return an iterator over the results from executing this query.\"\"\"\u001b[39;00m\n\u001b[32m   1571\u001b[39m \u001b[38;5;28;01mif\u001b[39;00m results \u001b[38;5;129;01mis\u001b[39;00m \u001b[38;5;28;01mNone\u001b[39;00m:\n\u001b[32m-> \u001b[39m\u001b[32m1572\u001b[39m     results = \u001b[38;5;28;43mself\u001b[39;49m\u001b[43m.\u001b[49m\u001b[43mexecute_sql\u001b[49m\u001b[43m(\u001b[49m\n\u001b[32m   1573\u001b[39m \u001b[43m        \u001b[49m\u001b[43mMULTI\u001b[49m\u001b[43m,\u001b[49m\u001b[43m \u001b[49m\u001b[43mchunked_fetch\u001b[49m\u001b[43m=\u001b[49m\u001b[43mchunked_fetch\u001b[49m\u001b[43m,\u001b[49m\u001b[43m \u001b[49m\u001b[43mchunk_size\u001b[49m\u001b[43m=\u001b[49m\u001b[43mchunk_size\u001b[49m\n\u001b[32m   1574\u001b[39m \u001b[43m    \u001b[49m\u001b[43m)\u001b[49m\n\u001b[32m   1575\u001b[39m fields = [s[\u001b[32m0\u001b[39m] \u001b[38;5;28;01mfor\u001b[39;00m s \u001b[38;5;129;01min\u001b[39;00m \u001b[38;5;28mself\u001b[39m.select[\u001b[32m0\u001b[39m : \u001b[38;5;28mself\u001b[39m.col_count]]\n\u001b[32m   1576\u001b[39m converters = \u001b[38;5;28mself\u001b[39m.get_converters(fields)\n",
      "\u001b[36mFile \u001b[39m\u001b[32md:\\Maquinarias\\maquinas\\.venv\\Lib\\site-packages\\django\\db\\models\\sql\\compiler.py:1621\u001b[39m, in \u001b[36mSQLCompiler.execute_sql\u001b[39m\u001b[34m(self, result_type, chunked_fetch, chunk_size)\u001b[39m\n\u001b[32m   1619\u001b[39m     cursor = \u001b[38;5;28mself\u001b[39m.connection.chunked_cursor()\n\u001b[32m   1620\u001b[39m \u001b[38;5;28;01melse\u001b[39;00m:\n\u001b[32m-> \u001b[39m\u001b[32m1621\u001b[39m     cursor = \u001b[38;5;28;43mself\u001b[39;49m\u001b[43m.\u001b[49m\u001b[43mconnection\u001b[49m\u001b[43m.\u001b[49m\u001b[43mcursor\u001b[49m\u001b[43m(\u001b[49m\u001b[43m)\u001b[49m\n\u001b[32m   1622\u001b[39m \u001b[38;5;28;01mtry\u001b[39;00m:\n\u001b[32m   1623\u001b[39m     cursor.execute(sql, params)\n",
      "\u001b[36mFile \u001b[39m\u001b[32md:\\Maquinarias\\maquinas\\.venv\\Lib\\site-packages\\django\\utils\\asyncio.py:24\u001b[39m, in \u001b[36masync_unsafe.<locals>.decorator.<locals>.inner\u001b[39m\u001b[34m(*args, **kwargs)\u001b[39m\n\u001b[32m     22\u001b[39m \u001b[38;5;28;01melse\u001b[39;00m:\n\u001b[32m     23\u001b[39m     \u001b[38;5;28;01mif\u001b[39;00m \u001b[38;5;129;01mnot\u001b[39;00m os.environ.get(\u001b[33m\"\u001b[39m\u001b[33mDJANGO_ALLOW_ASYNC_UNSAFE\u001b[39m\u001b[33m\"\u001b[39m):\n\u001b[32m---> \u001b[39m\u001b[32m24\u001b[39m         \u001b[38;5;28;01mraise\u001b[39;00m SynchronousOnlyOperation(message)\n\u001b[32m     25\u001b[39m \u001b[38;5;66;03m# Pass onward.\u001b[39;00m\n\u001b[32m     26\u001b[39m \u001b[38;5;28;01mreturn\u001b[39;00m func(*args, **kwargs)\n",
      "\u001b[31mSynchronousOnlyOperation\u001b[39m: You cannot call this from an async context - use a thread or sync_to_async."
     ]
    }
   ],
   "source": [
    "model  = ServicesQ_learning('Línea k-128')"
   ]
  }
 ],
 "metadata": {
  "kernelspec": {
   "display_name": ".venv",
   "language": "python",
   "name": "python3"
  },
  "language_info": {
   "codemirror_mode": {
    "name": "ipython",
    "version": 3
   },
   "file_extension": ".py",
   "mimetype": "text/x-python",
   "name": "python",
   "nbconvert_exporter": "python",
   "pygments_lexer": "ipython3",
   "version": "3.12.10"
  }
 },
 "nbformat": 4,
 "nbformat_minor": 5
}
