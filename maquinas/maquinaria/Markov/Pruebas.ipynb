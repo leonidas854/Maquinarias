{
 "cells": [
  {
   "cell_type": "code",
   "execution_count": 8,
   "id": "f3ef7b1e",
   "metadata": {},
   "outputs": [],
   "source": [
    "import numpy as np\n",
    "import markov"
   ]
  },
  {
   "cell_type": "code",
   "execution_count": 12,
   "id": "f38cf0e7",
   "metadata": {},
   "outputs": [],
   "source": [
    "matrix = np.array([[0.6,0.4],[0.3,0.7]])\n",
    "vector = np.array([0.5,0.5])"
   ]
  },
  {
   "cell_type": "code",
   "execution_count": 11,
   "id": "6c44a2b5",
   "metadata": {},
   "outputs": [],
   "source": [
    "matriz  = np.array([[5,5],[2,8]])"
   ]
  },
  {
   "cell_type": "code",
   "execution_count": 16,
   "id": "90dafe05",
   "metadata": {},
   "outputs": [
    {
     "name": "stdout",
     "output_type": "stream",
     "text": [
      "<class 'numpy.int64'>\n",
      "<class 'numpy.float64'>\n"
     ]
    }
   ],
   "source": [
    "print(type(matriz[1][1]))\n",
    "print(type(matrix[1][1]))"
   ]
  },
  {
   "cell_type": "code",
   "execution_count": 20,
   "id": "d186dffb",
   "metadata": {},
   "outputs": [
    {
     "name": "stdout",
     "output_type": "stream",
     "text": [
      "chau\n"
     ]
    }
   ],
   "source": [
    "if type(5.5) == int:\n",
    "    print(\"hola\")\n",
    "else:\n",
    "    print(\"chau\")"
   ]
  },
  {
   "cell_type": "code",
   "execution_count": 9,
   "id": "2af7bdae",
   "metadata": {},
   "outputs": [
    {
     "name": "stdout",
     "output_type": "stream",
     "text": [
      "[0.5 0.5]\n"
     ]
    }
   ],
   "source": [
    "print(vector)"
   ]
  },
  {
   "cell_type": "code",
   "execution_count": 3,
   "id": "f26ec62f",
   "metadata": {},
   "outputs": [],
   "source": [
    "hola = markov.Markov()"
   ]
  },
  {
   "cell_type": "code",
   "execution_count": 26,
   "id": "c3a08752",
   "metadata": {},
   "outputs": [],
   "source": [
    "def Resvoler_suma(Matriz):\n",
    "    matrix =[]\n",
    "    for i in range(len(Matriz)):\n",
    "        suma = sum(Matriz[i])\n",
    "        fila= [Matriz[i][j] /suma for j in range(len(Matriz[i]))]\n",
    "        matrix.append(fila)\n",
    "    return matrix\n",
    "        "
   ]
  },
  {
   "cell_type": "code",
   "execution_count": 18,
   "id": "312614a6",
   "metadata": {},
   "outputs": [
    {
     "name": "stdout",
     "output_type": "stream",
     "text": [
      "2\n"
     ]
    }
   ],
   "source": [
    "print(len(matriz[1]))"
   ]
  },
  {
   "cell_type": "code",
   "execution_count": 21,
   "id": "27d53759",
   "metadata": {},
   "outputs": [
    {
     "name": "stdout",
     "output_type": "stream",
     "text": [
      "[[0.5 0.5]\n",
      " [0.2 0.8]]\n"
     ]
    }
   ],
   "source": [
    "print(hola.Resvoler_suma(matriz))\n",
    "hola.set_vector(vector)"
   ]
  },
  {
   "cell_type": "code",
   "execution_count": 22,
   "id": "b37101a3",
   "metadata": {},
   "outputs": [
    {
     "name": "stdout",
     "output_type": "stream",
     "text": [
      "[0.28571429 0.71428571]\n"
     ]
    }
   ],
   "source": [
    "print(hola.resolver_vector_estacionario())"
   ]
  },
  {
   "cell_type": "code",
   "execution_count": 4,
   "id": "b0d91a65",
   "metadata": {},
   "outputs": [],
   "source": [
    "hola.set_matriz(matrix)\n",
    "hola.set_vector(vector)"
   ]
  },
  {
   "cell_type": "code",
   "execution_count": 5,
   "id": "2842f04b",
   "metadata": {},
   "outputs": [
    {
     "name": "stdout",
     "output_type": "stream",
     "text": [
      "[0.42857143 0.57142857]\n"
     ]
    }
   ],
   "source": [
    "print(hola.resolver_vector_estacionario())"
   ]
  },
  {
   "cell_type": "code",
   "execution_count": 6,
   "id": "c02bdcde",
   "metadata": {},
   "outputs": [],
   "source": [
    "prueba = markov.Markov(matrix,vector)"
   ]
  },
  {
   "cell_type": "code",
   "execution_count": null,
   "id": "1310ef18",
   "metadata": {},
   "outputs": [],
   "source": [
    "def Resolver_saltos(saltos:list) -> np.ndarray:\n",
    "        new_vector = vector\n",
    "        for i in range(1,saltos+1):\n",
    "            \n",
    "            new_vector = np.dot(new_vector,matrix)\n",
    "           \n",
    "        return new_vector"
   ]
  },
  {
   "cell_type": "code",
   "execution_count": 12,
   "id": "4a772de6",
   "metadata": {},
   "outputs": [
    {
     "name": "stdout",
     "output_type": "stream",
     "text": [
      "False\n"
     ]
    }
   ],
   "source": [
    "print(prueba.Verificar())"
   ]
  },
  {
   "cell_type": "code",
   "execution_count": 8,
   "id": "facdf08b",
   "metadata": {},
   "outputs": [
    {
     "name": "stdout",
     "output_type": "stream",
     "text": [
      "[0.435 0.565]\n",
      "[0.42857143 0.57142857]\n"
     ]
    }
   ],
   "source": [
    "print(prueba.Resolver_saltos(2))\n",
    "print(prueba.resolver_vector_estacionario())\n"
   ]
  },
  {
   "cell_type": "code",
   "execution_count": null,
   "id": "a9c7206c",
   "metadata": {},
   "outputs": [],
   "source": [
    "def resolver_vector_estacionario(matriz):\n",
    "    n = matriz.shape[0]\n",
    "    A = matriz.T - np.eye(n)\n",
    "    A = np.vstack([A, np.ones(n)])\n",
    "    b = np.zeros(n + 1)\n",
    "    b[-1] = 1\n",
    "    solucion = np.linalg.lstsq(A, b, rcond=None)[0]\n",
    "    return solucion\n"
   ]
  },
  {
   "cell_type": "code",
   "execution_count": 6,
   "id": "47726e4c",
   "metadata": {},
   "outputs": [
    {
     "name": "stdout",
     "output_type": "stream",
     "text": [
      "Probabilidades estacionarias: [0.42857143 0.57142857]\n"
     ]
    }
   ],
   "source": [
    "M = np.array([\n",
    "    [0.6, 0.4],\n",
    "    [0.3, 0.7]\n",
    "])\n",
    "vector_estable = resolver_vector_estacionario(M)\n",
    "print(\"Probabilidades estacionarias:\", vector_estable)"
   ]
  }
 ],
 "metadata": {
  "kernelspec": {
   "display_name": ".venv",
   "language": "python",
   "name": "python3"
  },
  "language_info": {
   "codemirror_mode": {
    "name": "ipython",
    "version": 3
   },
   "file_extension": ".py",
   "mimetype": "text/x-python",
   "name": "python",
   "nbconvert_exporter": "python",
   "pygments_lexer": "ipython3",
   "version": "3.12.10"
  }
 },
 "nbformat": 4,
 "nbformat_minor": 5
}
