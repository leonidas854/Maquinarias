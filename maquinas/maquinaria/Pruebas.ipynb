{
 "cells": [
  {
   "cell_type": "code",
   "execution_count": 1,
   "id": "f3ef7b1e",
   "metadata": {},
   "outputs": [],
   "source": [
    "import numpy as np\n",
    "import markov"
   ]
  },
  {
   "cell_type": "code",
   "execution_count": 2,
   "id": "f38cf0e7",
   "metadata": {},
   "outputs": [],
   "source": [
    "matrix = np.array([[0.6,0.4],[0.3,0.7]])\n",
    "vector = np.array([0.5,0.5])"
   ]
  },
  {
   "cell_type": "code",
   "execution_count": 3,
   "id": "c02bdcde",
   "metadata": {},
   "outputs": [],
   "source": [
    "prueba = markov.Markov(matrix,vector)"
   ]
  },
  {
   "cell_type": "code",
   "execution_count": null,
   "id": "1310ef18",
   "metadata": {},
   "outputs": [],
   "source": [
    "def Resolver_saltos(saltos):\n",
    "        new_vector = vector\n",
    "        for i in range(1,saltos+1):\n",
    "            \n",
    "            new_vector = np.dot(new_vector,matrix)\n",
    "           \n",
    "        return new_vector"
   ]
  },
  {
   "cell_type": "code",
   "execution_count": 4,
   "id": "facdf08b",
   "metadata": {},
   "outputs": [
    {
     "name": "stdout",
     "output_type": "stream",
     "text": [
      "[0.435 0.565]\n"
     ]
    }
   ],
   "source": [
    "print(prueba.Resolver_saltos(2))\n"
   ]
  }
 ],
 "metadata": {
  "kernelspec": {
   "display_name": ".venv",
   "language": "python",
   "name": "python3"
  },
  "language_info": {
   "codemirror_mode": {
    "name": "ipython",
    "version": 3
   },
   "file_extension": ".py",
   "mimetype": "text/x-python",
   "name": "python",
   "nbconvert_exporter": "python",
   "pygments_lexer": "ipython3",
   "version": "3.12.10"
  }
 },
 "nbformat": 4,
 "nbformat_minor": 5
}
